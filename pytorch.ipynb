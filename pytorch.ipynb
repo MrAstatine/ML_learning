{
 "cells": [
  {
   "cell_type": "code",
   "execution_count": 2,
   "id": "23e22631",
   "metadata": {},
   "outputs": [],
   "source": [
    "import torch"
   ]
  },
  {
   "cell_type": "code",
   "execution_count": 3,
   "id": "5a24e99b",
   "metadata": {},
   "outputs": [
    {
     "name": "stdout",
     "output_type": "stream",
     "text": [
      "tensor([[1, 2, 3],\n",
      "        [4, 5, 6]])\n"
     ]
    }
   ],
   "source": [
    "data=[[1, 2, 3], [4, 5, 6]]\n",
    "xdata=torch.tensor(data)\n",
    "print(xdata)"
   ]
  },
  {
   "cell_type": "code",
   "execution_count": 4,
   "id": "ab8d2e1f",
   "metadata": {},
   "outputs": [
    {
     "name": "stdout",
     "output_type": "stream",
     "text": [
      "tensor([[1, 2, 3],\n",
      "        [4, 5, 6]])\n"
     ]
    }
   ],
   "source": [
    "import numpy as np\n",
    "np_array = np.array(data)\n",
    "x_np=torch.from_numpy(np_array)\n",
    "print(x_np)"
   ]
  },
  {
   "cell_type": "code",
   "execution_count": 5,
   "id": "3798b9ad",
   "metadata": {},
   "outputs": [
    {
     "name": "stdout",
     "output_type": "stream",
     "text": [
      "tensor([[1, 1, 1],\n",
      "        [1, 1, 1]])\n",
      "tensor([[0.8387, 0.8657, 0.1878],\n",
      "        [0.5997, 0.9827, 0.0413]])\n"
     ]
    }
   ],
   "source": [
    "x_ones=torch.ones_like(xdata)\n",
    "print(x_ones)\n",
    "x_rand=torch.rand_like(xdata, dtype=torch.float)\n",
    "print(x_rand)"
   ]
  },
  {
   "cell_type": "code",
   "execution_count": 6,
   "id": "1ce9ec29",
   "metadata": {},
   "outputs": [
    {
     "name": "stdout",
     "output_type": "stream",
     "text": [
      "tensor([[1., 1., 1., 1., 1., 1.],\n",
      "        [1., 1., 1., 1., 1., 1.],\n",
      "        [1., 1., 1., 1., 1., 1.]])\n",
      "tensor([[0., 0., 0., 0., 0., 0.],\n",
      "        [0., 0., 0., 0., 0., 0.],\n",
      "        [0., 0., 0., 0., 0., 0.]])\n",
      "tensor([[0.9134, 0.4344, 0.1817, 0.4808, 0.4696, 0.2421],\n",
      "        [0.4272, 0.5655, 0.7288, 0.1206, 0.5242, 0.2147],\n",
      "        [0.9779, 0.7167, 0.2870, 0.4134, 0.1970, 0.8015]])\n",
      "tensor([[0., 0., 0., 0., 0., 0.],\n",
      "        [0., 0., 0., 0., 0., 0.],\n",
      "        [0., 0., 0., 0., 0., 0.]])\n"
     ]
    }
   ],
   "source": [
    "shape=(3, 6)\n",
    "ones_tensor=torch.ones(shape)\n",
    "zeros_tensor=torch.zeros(shape)\n",
    "torch.manual_seed(5342)\n",
    "rand_tensor=torch.rand(shape)\n",
    "empty_tensor=torch.empty(shape)\n",
    "print(ones_tensor)\n",
    "print(zeros_tensor)\n",
    "print(rand_tensor)\n",
    "print(empty_tensor)\n"
   ]
  },
  {
   "cell_type": "code",
   "execution_count": 7,
   "id": "16845b02",
   "metadata": {},
   "outputs": [
    {
     "name": "stdout",
     "output_type": "stream",
     "text": [
      "tensor([[[8.3946e-28, 8.1696e-43],\n",
      "         [0.0000e+00, 0.0000e+00],\n",
      "         [0.0000e+00, 0.0000e+00],\n",
      "         [0.0000e+00, 0.0000e+00],\n",
      "         [0.0000e+00, 0.0000e+00],\n",
      "         [0.0000e+00, 0.0000e+00]],\n",
      "\n",
      "        [[0.0000e+00, 0.0000e+00],\n",
      "         [0.0000e+00, 0.0000e+00],\n",
      "         [0.0000e+00, 0.0000e+00],\n",
      "         [0.0000e+00, 0.0000e+00],\n",
      "         [0.0000e+00, 0.0000e+00],\n",
      "         [0.0000e+00, 0.0000e+00]],\n",
      "\n",
      "        [[0.0000e+00, 0.0000e+00],\n",
      "         [0.0000e+00, 0.0000e+00],\n",
      "         [0.0000e+00, 0.0000e+00],\n",
      "         [0.0000e+00, 0.0000e+00],\n",
      "         [0.0000e+00, 0.0000e+00],\n",
      "         [0.0000e+00, 0.0000e+00]]])\n",
      "torch.Size([3, 6, 2])\n"
     ]
    }
   ],
   "source": [
    "x=torch.empty(3,6,2)\n",
    "print(x)\n",
    "print(x.shape)"
   ]
  },
  {
   "cell_type": "code",
   "execution_count": 8,
   "id": "d8b4f5e1",
   "metadata": {},
   "outputs": [
    {
     "name": "stdout",
     "output_type": "stream",
     "text": [
      "torch.int16\n",
      "torch.float64\n",
      "torch.int8\n",
      "torch.int32\n",
      "torch.int64\n",
      "torch.bool\n"
     ]
    }
   ],
   "source": [
    "a = torch.ones((2, 3), dtype=torch.int16)\n",
    "print(a.dtype)\n",
    "a = torch.ones((2, 3), dtype=torch.float64)\n",
    "print(a.dtype)\n",
    "a = torch.ones((2, 3), dtype=torch.int8)\n",
    "print(a.dtype)\n",
    "a = torch.ones((2, 3), dtype=torch.int32)\n",
    "print(a.dtype)\n",
    "a = torch.ones((2, 3), dtype=torch.int64)\n",
    "print(a.dtype)\n",
    "a = torch.ones((2, 3), dtype=torch.bool)\n",
    "print(a.dtype)\n"
   ]
  },
  {
   "cell_type": "code",
   "execution_count": 9,
   "id": "a75cdb44",
   "metadata": {},
   "outputs": [
    {
     "name": "stdout",
     "output_type": "stream",
     "text": [
      "Device tensor is initially stored on: cpu\n"
     ]
    }
   ],
   "source": [
    "# Create a tensor\n",
    "tensor = torch.rand(3, 2)\n",
    "print(f\"Device tensor is initially stored on: {tensor.device}\")\n",
    "\n",
    "\n"
   ]
  },
  {
   "cell_type": "code",
   "execution_count": null,
   "id": "346d7caf",
   "metadata": {},
   "outputs": [
    {
     "name": "stdout",
     "output_type": "stream",
     "text": [
      "CUDA is not available. Tensor remains on CPU.\n"
     ]
    }
   ],
   "source": [
    "if torch.cuda.is_available():\n",
    "    tensor = tensor.to(\"cuda\")\n",
    "    print(f\"Device tensor is now stored on: {tensor.device}\")\n",
    "else:\n",
    "    print(\"CUDA is not available. Tensor remains on CPU.\")\n",
    "    "
   ]
  },
  {
   "cell_type": "code",
   "execution_count": null,
   "id": "1421a038",
   "metadata": {},
   "outputs": [
    {
     "name": "stdout",
     "output_type": "stream",
     "text": [
      "First row: tensor([1., 1., 1., 1.]) \n",
      "\n",
      "First column: tensor([1., 1., 1., 1.]) \n",
      "\n",
      "Last column: tensor([1., 1., 1., 1.]) \n",
      "\n",
      "tensor([[1., 0., 1., 1.],\n",
      "        [1., 0., 1., 1.],\n",
      "        [1., 0., 1., 1.],\n",
      "        [1., 0., 1., 1.]])\n"
     ]
    }
   ],
   "source": [
    "tensor = torch.ones(4, 4)\n",
    "print(f\"First row: {tensor[0]}\",\"\\n\")\n",
    "print(f\"First column: {tensor[:, 0]}\",\"\\n\")\n",
    "print(f\"Last column: {tensor[:, -1]}\",\"\\n\")\n",
    "tensor[:,1] = 0 \n",
    "print(tensor)\n"
   ]
  },
  {
   "cell_type": "code",
   "execution_count": null,
   "id": "df296d2a",
   "metadata": {},
   "outputs": [
    {
     "name": "stdout",
     "output_type": "stream",
     "text": [
      "tensor([[1., 1.],\n",
      "        [1., 1.]]) \n",
      "\n",
      "tensor([[2., 2.],\n",
      "        [2., 2.]]) \n",
      "\n",
      "tensor([[3., 3.],\n",
      "        [3., 3.]]) \n",
      "\n",
      "tensor([[4., 4.],\n",
      "        [4., 4.]]) \n",
      "\n",
      "tensor([[1.4142, 1.4142],\n",
      "        [1.4142, 1.4142]]) \n",
      "\n"
     ]
    }
   ],
   "source": [
    "ones = torch.zeros(2, 2) + 1 \n",
    "twos = torch.ones(2, 2) * 2 \n",
    "threes = (torch.ones(2, 2) * 7 - 1) / 2\n",
    "fours = twos ** 2 \n",
    "sqrt2s = twos ** 0.5 \n",
    "\n",
    "print(ones,\"\\n\")\n",
    "print(twos,\"\\n\")\n",
    "print(threes,\"\\n\")\n",
    "print(fours,\"\\n\")\n",
    "print(sqrt2s,\"\\n\")"
   ]
  },
  {
   "cell_type": "code",
   "execution_count": null,
   "id": "9f9aaffc",
   "metadata": {},
   "outputs": [
    {
     "name": "stdout",
     "output_type": "stream",
     "text": [
      "tensor([[ 2.,  4.],\n",
      "        [ 8., 16.]]) \n",
      "\n",
      "tensor([[ 3.,  5.],\n",
      "        [ 9., 17.]]) \n",
      "\n",
      "tensor([[ 6., 12.],\n",
      "        [24., 48.]]) \n",
      "\n"
     ]
    }
   ],
   "source": [
    "powers2 = twos ** torch.tensor([[1, 2], [3, 4]]) \n",
    "print(powers2,\"\\n\")\n",
    "fives = ones + powers2 \n",
    "print(fives,\"\\n\")\n",
    "dozens = threes * powers2 \n",
    "print(dozens,\"\\n\")"
   ]
  },
  {
   "cell_type": "code",
   "execution_count": null,
   "id": "e65828f6",
   "metadata": {},
   "outputs": [
    {
     "name": "stdout",
     "output_type": "stream",
     "text": [
      "tensor([[0.2099, 0.2497, 0.7165, 0.6052],\n",
      "        [0.2578, 0.5984, 0.1647, 0.0950]])\n",
      "tensor([[0.4198, 0.4994, 1.4331, 1.2103],\n",
      "        [0.5156, 1.1969, 0.3294, 0.1901]])\n"
     ]
    }
   ],
   "source": [
    "rand = torch.rand(2, 4)\n",
    "doubled = rand * (torch.ones(1, 4) * 2)\n",
    "print(rand)\n",
    "print(doubled)"
   ]
  },
  {
   "cell_type": "code",
   "execution_count": null,
   "id": "f15b9d2e",
   "metadata": {},
   "outputs": [
    {
     "name": "stdout",
     "output_type": "stream",
     "text": [
      "tensor([[[1., 1.],\n",
      "         [1., 1.],\n",
      "         [1., 1.]],\n",
      "\n",
      "        [[1., 1.],\n",
      "         [1., 1.],\n",
      "         [1., 1.]],\n",
      "\n",
      "        [[1., 1.],\n",
      "         [1., 1.],\n",
      "         [1., 1.]],\n",
      "\n",
      "        [[1., 1.],\n",
      "         [1., 1.],\n",
      "         [1., 1.]]])\n",
      "tensor([[[0.6106, 0.5466],\n",
      "         [0.5743, 0.3525],\n",
      "         [0.5677, 0.6100]],\n",
      "\n",
      "        [[0.6106, 0.5466],\n",
      "         [0.5743, 0.3525],\n",
      "         [0.5677, 0.6100]],\n",
      "\n",
      "        [[0.6106, 0.5466],\n",
      "         [0.5743, 0.3525],\n",
      "         [0.5677, 0.6100]],\n",
      "\n",
      "        [[0.6106, 0.5466],\n",
      "         [0.5743, 0.3525],\n",
      "         [0.5677, 0.6100]]]) \n",
      "\n",
      "tensor([[[0.5719, 0.0967],\n",
      "         [0.5719, 0.0967],\n",
      "         [0.5719, 0.0967]],\n",
      "\n",
      "        [[0.3208, 0.5908],\n",
      "         [0.3208, 0.5908],\n",
      "         [0.3208, 0.5908]],\n",
      "\n",
      "        [[0.9659, 0.0275],\n",
      "         [0.9659, 0.0275],\n",
      "         [0.9659, 0.0275]],\n",
      "\n",
      "        [[0.3514, 0.1094],\n",
      "         [0.3514, 0.1094],\n",
      "         [0.3514, 0.1094]]]) \n",
      "\n",
      "tensor([[[0.5027, 0.8610],\n",
      "         [0.3222, 0.4128],\n",
      "         [0.5178, 0.7931]],\n",
      "\n",
      "        [[0.5027, 0.8610],\n",
      "         [0.3222, 0.4128],\n",
      "         [0.5178, 0.7931]],\n",
      "\n",
      "        [[0.5027, 0.8610],\n",
      "         [0.3222, 0.4128],\n",
      "         [0.5178, 0.7931]],\n",
      "\n",
      "        [[0.5027, 0.8610],\n",
      "         [0.3222, 0.4128],\n",
      "         [0.5178, 0.7931]]]) \n",
      "\n"
     ]
    }
   ],
   "source": [
    "a = torch.ones(4, 3, 2)\n",
    "print(a)\n",
    "b = a * torch.rand(3, 2)\n",
    "print(b, \"\\n\") \n",
    "c = a * torch.rand(4, 1, 2)\n",
    "print(c, \"\\n\") \n",
    "d = a * torch.rand(1, 3, 2)\n",
    "print(d, \"\\n\") \n"
   ]
  },
  {
   "cell_type": "code",
   "execution_count": null,
   "id": "90c05c8d",
   "metadata": {},
   "outputs": [
    {
     "name": "stdout",
     "output_type": "stream",
     "text": [
      "tensor([[ 0.5830, -0.1773,  0.1101,  0.6310],\n",
      "        [ 0.2895, -0.3440, -0.1988, -0.3762]]) \n",
      "\n",
      "tensor([[0.5830, 0.1773, 0.1101, 0.6310],\n",
      "        [0.2895, 0.3440, 0.1988, 0.3762]]) \n",
      "\n",
      "tensor([[1., -0., 1., 1.],\n",
      "        [1., -0., -0., -0.]]) \n",
      "\n",
      "tensor([[ 0., -1.,  0.,  0.],\n",
      "        [ 0., -1., -1., -1.]]) \n",
      "\n",
      "tensor([[ 0.5000, -0.1773,  0.1101,  0.5000],\n",
      "        [ 0.2895, -0.3440, -0.1988, -0.3762]])\n"
     ]
    }
   ],
   "source": [
    "import math\n",
    "a = torch.rand(2, 4) * 2 - 1\n",
    "print(a,\"\\n\")\n",
    "print(torch.abs(a),\"\\n\") \n",
    "print(torch.ceil(a),\"\\n\") \n",
    "print(torch.floor(a),\"\\n\") \n",
    "print(torch.clamp(a, -0.5, 0.5)) "
   ]
  },
  {
   "cell_type": "code",
   "execution_count": null,
   "id": "494f44d6",
   "metadata": {},
   "outputs": [
    {
     "name": "stdout",
     "output_type": "stream",
     "text": [
      "\n",
      "Sine and arcsine:\n",
      "tensor([0.0000, 0.7854, 1.5708, 2.3562]) \n",
      "\n",
      "tensor([0.0000, 0.7071, 1.0000, 0.7071]) \n",
      "\n",
      "tensor([0.0000, 0.7854, 1.5708, 0.7854]) \n",
      "\n"
     ]
    }
   ],
   "source": [
    "angles = torch.tensor([0, math.pi / 4, math.pi / 2, 3 * math.pi / 4]) \n",
    "sines = torch.sin(angles)\n",
    "inverses = torch.asin(sines)\n",
    "print('\\nSine and arcsine:')\n",
    "print(angles,\"\\n\")\n",
    "print(sines,\"\\n\")\n",
    "print(inverses,\"\\n\")\n"
   ]
  },
  {
   "cell_type": "code",
   "execution_count": 18,
   "id": "630dea64",
   "metadata": {},
   "outputs": [
    {
     "name": "stdout",
     "output_type": "stream",
     "text": [
      "tensor([3, 2, 1])\n"
     ]
    }
   ],
   "source": [
    "b = torch.tensor([1, 5, 11])\n",
    "c = torch.tensor([2, 7, 10])\n",
    "print(torch.bitwise_xor(b, c))\n"
   ]
  },
  {
   "cell_type": "code",
   "execution_count": null,
   "id": "0e22bdc7",
   "metadata": {},
   "outputs": [
    {
     "name": "stdout",
     "output_type": "stream",
     "text": [
      "\n",
      "Broadcasted, element-wise equality comparison:\n",
      "tensor([[1., 2.],\n",
      "        [3., 4.]]) \n",
      "\n",
      "tensor([[1., 1.]]) \n",
      "\n",
      "tensor([[ True, False],\n",
      "        [False, False]])\n"
     ]
    }
   ],
   "source": [
    "print('\\nBroadcasted, element-wise equality comparison:')\n",
    "d = torch.tensor([[1., 2.], [3., 4.]])\n",
    "print(d,\"\\n\")\n",
    "e = torch.ones(1, 2)  \n",
    "print(e,\"\\n\")\n",
    "print(torch.eq(d, e)) "
   ]
  },
  {
   "cell_type": "code",
   "execution_count": null,
   "id": "b5d26afc",
   "metadata": {},
   "outputs": [
    {
     "name": "stdout",
     "output_type": "stream",
     "text": [
      "tensor(4.)\n",
      "4.0\n",
      "tensor(2.5000)\n",
      "tensor(1.2910)\n",
      "tensor(24.)\n",
      "tensor([1, 2])\n"
     ]
    }
   ],
   "source": [
    "d = torch.tensor([[1., 2.], [3., 4.]])\n",
    "print(torch.max(d))\n",
    "print(torch.max(d).item())\n",
    "print(torch.mean(d))\n",
    "print(torch.std(d))\n",
    "print(torch.prod(d))\n",
    "print(torch.unique(torch.tensor([1, 2, 1, 2, 1, 2])))"
   ]
  },
  {
   "cell_type": "code",
   "execution_count": 24,
   "id": "e0fe43e1",
   "metadata": {},
   "outputs": [
    {
     "name": "stdout",
     "output_type": "stream",
     "text": [
      "tensor([0, 0, 1]) /n\n",
      "tensor([[0.6542, 0.3798],\n",
      "        [0.8130, 0.5414]])\n",
      "tensor([[1.9627, 1.1395],\n",
      "        [2.4389, 1.6243]])\n",
      "torch.return_types.svd(\n",
      "U=tensor([[-0.6121, -0.7907],\n",
      "        [-0.7907,  0.6121]]),\n",
      "S=tensor([3.7047, 0.1103]),\n",
      "V=tensor([[-0.8449, -0.5350],\n",
      "        [-0.5350,  0.8449]]))\n"
     ]
    }
   ],
   "source": [
    "v1=torch.tensor([1,0,0])\n",
    "v2=torch.tensor([0,1,0])\n",
    "print(torch.cross(v1,v2),'/n')\n",
    "m1=torch.rand(2,2)\n",
    "m2=torch.tensor([[3.0,0.0],[0.0,3.0]])\n",
    "print(m1)\n",
    "m3=torch.matmul(m1,m2)\n",
    "print(m3)\n",
    "print(torch.svd(m3))"
   ]
  },
  {
   "cell_type": "code",
   "execution_count": 27,
   "id": "6ff8bf76",
   "metadata": {},
   "outputs": [
    {
     "name": "stdout",
     "output_type": "stream",
     "text": [
      "tensor([0.0000, 0.7854, 1.5708, 2.3562])\n",
      "tensor([0.0000, 0.7071, 1.0000, 0.7071])\n",
      "tensor([0.0000, 0.7854, 1.5708, 2.3562]) \n",
      "\n",
      "tensor([0.0000, 0.7854, 1.5708, 2.3562])\n",
      "tensor([0.0000, 0.7071, 1.0000, 0.7071])\n",
      "tensor([0.0000, 0.7071, 1.0000, 0.7071])\n"
     ]
    }
   ],
   "source": [
    "a=torch.tensor([0,math.pi/4,math.pi/2,3*math.pi/4])\n",
    "print(a)\n",
    "print(torch.sin(a))\n",
    "print(a,'\\n')\n",
    "b=torch.tensor([0,math.pi/4,math.pi/2,3*math.pi/4])\n",
    "print(b)\n",
    "print(torch.sin_(b))\n",
    "print(b)"
   ]
  },
  {
   "cell_type": "code",
   "execution_count": 28,
   "id": "66ea2d12",
   "metadata": {},
   "outputs": [
    {
     "name": "stdout",
     "output_type": "stream",
     "text": [
      "Before:\n",
      "tensor([[1., 1.],\n",
      "        [1., 1.]])\n",
      "tensor([[0.1682, 0.0426],\n",
      "        [0.5605, 0.2556]])\n",
      "\n",
      "After adding:\n",
      "tensor([[1.1682, 1.0426],\n",
      "        [1.5605, 1.2556]])\n",
      "tensor([[1.1682, 1.0426],\n",
      "        [1.5605, 1.2556]])\n",
      "tensor([[0.1682, 0.0426],\n",
      "        [0.5605, 0.2556]])\n",
      "\n",
      "After multiplying\n",
      "tensor([[0.0283, 0.0018],\n",
      "        [0.3142, 0.0653]])\n",
      "tensor([[0.0283, 0.0018],\n",
      "        [0.3142, 0.0653]])\n"
     ]
    }
   ],
   "source": [
    "a = torch.ones(2, 2)\n",
    "b = torch.rand(2, 2)\n",
    "print('Before:')\n",
    "print(a)\n",
    "print(b)\n",
    "print('\\nAfter adding:')\n",
    "print(a.add_(b))\n",
    "print(a)\n",
    "print(b)\n",
    "print('\\nAfter multiplying')\n",
    "print(b.mul_(b))\n",
    "print(b)"
   ]
  },
  {
   "cell_type": "code",
   "execution_count": 29,
   "id": "a7b18d2c",
   "metadata": {},
   "outputs": [
    {
     "name": "stdout",
     "output_type": "stream",
     "text": [
      "tensor([[0., 0.],\n",
      "        [0., 0.]]) \n",
      "\n",
      "tensor([[0.7616, 1.0467],\n",
      "        [1.1544, 1.2714]]) \n",
      "\n",
      "tensor([[0.2984, 0.6437],\n",
      "        [0.1279, 0.5592]]) \n",
      "\n"
     ]
    }
   ],
   "source": [
    "a = torch.rand(2, 2)\n",
    "b = torch.rand(2, 2)\n",
    "c = torch.zeros(2, 2)\n",
    "old_id = id(c)\n",
    "print(c,\"\\n\")\n",
    "d = torch.matmul(a, b, out=c)\n",
    "print(c,\"\\n\") \n",
    "assert c is d \n",
    "assert id(c) == old_id\n",
    "torch.rand(2, 2, out=c)\n",
    "print(c,\"\\n\") \n",
    "assert id(c) == old_id "
   ]
  }
 ],
 "metadata": {
  "kernelspec": {
   "display_name": ".venv",
   "language": "python",
   "name": "python3"
  },
  "language_info": {
   "codemirror_mode": {
    "name": "ipython",
    "version": 3
   },
   "file_extension": ".py",
   "mimetype": "text/x-python",
   "name": "python",
   "nbconvert_exporter": "python",
   "pygments_lexer": "ipython3",
   "version": "3.13.5"
  }
 },
 "nbformat": 4,
 "nbformat_minor": 5
}
