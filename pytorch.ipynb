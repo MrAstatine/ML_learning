{
 "cells": [
  {
   "cell_type": "code",
   "execution_count": 1,
   "id": "23e22631",
   "metadata": {},
   "outputs": [],
   "source": [
    "import torch"
   ]
  },
  {
   "cell_type": "code",
   "execution_count": 3,
   "id": "5a24e99b",
   "metadata": {},
   "outputs": [
    {
     "name": "stdout",
     "output_type": "stream",
     "text": [
      "tensor([[1, 2, 3],\n",
      "        [4, 5, 6]])\n"
     ]
    }
   ],
   "source": [
    "data=[[1, 2, 3], [4, 5, 6]]\n",
    "xdata=torch.tensor(data)\n",
    "print(xdata)"
   ]
  },
  {
   "cell_type": "code",
   "execution_count": 4,
   "id": "ab8d2e1f",
   "metadata": {},
   "outputs": [
    {
     "name": "stdout",
     "output_type": "stream",
     "text": [
      "tensor([[1, 2, 3],\n",
      "        [4, 5, 6]])\n"
     ]
    }
   ],
   "source": [
    "import numpy as np\n",
    "np_array = np.array(data)\n",
    "x_np=torch.from_numpy(np_array)\n",
    "print(x_np)"
   ]
  },
  {
   "cell_type": "code",
   "execution_count": 5,
   "id": "3798b9ad",
   "metadata": {},
   "outputs": [
    {
     "name": "stdout",
     "output_type": "stream",
     "text": [
      "tensor([[1, 1, 1],\n",
      "        [1, 1, 1]])\n",
      "tensor([[0.6766, 0.0329, 0.0160],\n",
      "        [0.2541, 0.1685, 0.3657]])\n"
     ]
    }
   ],
   "source": [
    "x_ones=torch.ones_like(xdata)\n",
    "print(x_ones)\n",
    "x_rand=torch.rand_like(xdata, dtype=torch.float)\n",
    "print(x_rand)"
   ]
  },
  {
   "cell_type": "code",
   "execution_count": 7,
   "id": "1ce9ec29",
   "metadata": {},
   "outputs": [
    {
     "name": "stdout",
     "output_type": "stream",
     "text": [
      "tensor([[1., 1., 1., 1., 1., 1.],\n",
      "        [1., 1., 1., 1., 1., 1.],\n",
      "        [1., 1., 1., 1., 1., 1.]])\n",
      "tensor([[0., 0., 0., 0., 0., 0.],\n",
      "        [0., 0., 0., 0., 0., 0.],\n",
      "        [0., 0., 0., 0., 0., 0.]])\n",
      "tensor([[0.9134, 0.4344, 0.1817, 0.4808, 0.4696, 0.2421],\n",
      "        [0.4272, 0.5655, 0.7288, 0.1206, 0.5242, 0.2147],\n",
      "        [0.9779, 0.7167, 0.2870, 0.4134, 0.1970, 0.8015]])\n",
      "tensor([[0., 0., 0., 0., 0., 0.],\n",
      "        [0., 0., 0., 0., 0., 0.],\n",
      "        [0., 0., 0., 0., 0., 0.]])\n"
     ]
    }
   ],
   "source": [
    "shape=(3, 6)\n",
    "ones_tensor=torch.ones(shape)\n",
    "zeros_tensor=torch.zeros(shape)\n",
    "torch.manual_seed(5342)\n",
    "rand_tensor=torch.rand(shape)\n",
    "empty_tensor=torch.empty(shape)\n",
    "print(ones_tensor)\n",
    "print(zeros_tensor)\n",
    "print(rand_tensor)\n",
    "print(empty_tensor)\n"
   ]
  },
  {
   "cell_type": "code",
   "execution_count": 8,
   "id": "16845b02",
   "metadata": {},
   "outputs": [
    {
     "name": "stdout",
     "output_type": "stream",
     "text": [
      "tensor([[[0., 0.],\n",
      "         [0., 0.],\n",
      "         [0., 0.],\n",
      "         [0., 0.],\n",
      "         [0., 0.],\n",
      "         [0., 0.]],\n",
      "\n",
      "        [[0., 0.],\n",
      "         [0., 0.],\n",
      "         [0., 0.],\n",
      "         [0., 0.],\n",
      "         [0., 0.],\n",
      "         [0., 0.]],\n",
      "\n",
      "        [[0., 0.],\n",
      "         [0., 0.],\n",
      "         [0., 0.],\n",
      "         [0., 0.],\n",
      "         [0., 0.],\n",
      "         [0., 0.]]])\n",
      "torch.Size([3, 6, 2])\n"
     ]
    }
   ],
   "source": [
    "x=torch.empty(3,6,2)\n",
    "print(x)\n",
    "print(x.shape)"
   ]
  },
  {
   "cell_type": "code",
   "execution_count": 9,
   "id": "d8b4f5e1",
   "metadata": {},
   "outputs": [
    {
     "name": "stdout",
     "output_type": "stream",
     "text": [
      "torch.int16\n",
      "torch.float64\n",
      "torch.int8\n",
      "torch.int32\n",
      "torch.int64\n",
      "torch.bool\n"
     ]
    }
   ],
   "source": [
    "a = torch.ones((2, 3), dtype=torch.int16)\n",
    "print(a.dtype)\n",
    "a = torch.ones((2, 3), dtype=torch.float64)\n",
    "print(a.dtype)\n",
    "a = torch.ones((2, 3), dtype=torch.int8)\n",
    "print(a.dtype)\n",
    "a = torch.ones((2, 3), dtype=torch.int32)\n",
    "print(a.dtype)\n",
    "a = torch.ones((2, 3), dtype=torch.int64)\n",
    "print(a.dtype)\n",
    "a = torch.ones((2, 3), dtype=torch.bool)\n",
    "print(a.dtype)\n"
   ]
  },
  {
   "cell_type": "code",
   "execution_count": 10,
   "id": "a75cdb44",
   "metadata": {},
   "outputs": [
    {
     "name": "stdout",
     "output_type": "stream",
     "text": [
      "Device tensor is initially stored on: cpu\n"
     ]
    }
   ],
   "source": [
    "# Create a tensor\n",
    "tensor = torch.rand(3, 2)\n",
    "print(f\"Device tensor is initially stored on: {tensor.device}\")\n",
    "\n",
    "\n"
   ]
  },
  {
   "cell_type": "code",
   "execution_count": 11,
   "id": "346d7caf",
   "metadata": {},
   "outputs": [
    {
     "name": "stdout",
     "output_type": "stream",
     "text": [
      "CUDA is not available. Tensor remains on CPU.\n"
     ]
    }
   ],
   "source": [
    "# Check if GPU is available and move tensor to GPU if it is\n",
    "if torch.cuda.is_available():\n",
    "    tensor = tensor.to(\"cuda\")\n",
    "    print(f\"Device tensor is now stored on: {tensor.device}\")\n",
    "else:\n",
    "    print(\"CUDA is not available. Tensor remains on CPU.\")\n",
    "    "
   ]
  },
  {
   "cell_type": "code",
   "execution_count": 12,
   "id": "1421a038",
   "metadata": {},
   "outputs": [
    {
     "name": "stdout",
     "output_type": "stream",
     "text": [
      "First row: tensor([1., 1., 1., 1.]) \n",
      "\n",
      "First column: tensor([1., 1., 1., 1.]) \n",
      "\n",
      "Last column: tensor([1., 1., 1., 1.]) \n",
      "\n",
      "tensor([[1., 0., 1., 1.],\n",
      "        [1., 0., 1., 1.],\n",
      "        [1., 0., 1., 1.],\n",
      "        [1., 0., 1., 1.]])\n"
     ]
    }
   ],
   "source": [
    "tensor = torch.ones(4, 4)\n",
    "print(f\"First row: {tensor[0]}\",\"\\n\")\n",
    "print(f\"First column: {tensor[:, 0]}\",\"\\n\")\n",
    "print(f\"Last column: {tensor[:, -1]}\",\"\\n\")\n",
    "tensor[:,1] = 0 # set all elements in second column to 0\n",
    "print(tensor)\n"
   ]
  },
  {
   "cell_type": "code",
   "execution_count": 13,
   "id": "df296d2a",
   "metadata": {},
   "outputs": [
    {
     "name": "stdout",
     "output_type": "stream",
     "text": [
      "tensor([[1., 1.],\n",
      "        [1., 1.]]) \n",
      "\n",
      "tensor([[2., 2.],\n",
      "        [2., 2.]]) \n",
      "\n",
      "tensor([[3., 3.],\n",
      "        [3., 3.]]) \n",
      "\n",
      "tensor([[4., 4.],\n",
      "        [4., 4.]]) \n",
      "\n",
      "tensor([[1.4142, 1.4142],\n",
      "        [1.4142, 1.4142]]) \n",
      "\n"
     ]
    }
   ],
   "source": [
    "ones = torch.zeros(2, 2) + 1 # adding 1 to a tensor of zeros\n",
    "twos = torch.ones(2, 2) * 2 # multiplying a tensor of ones by 2\n",
    "threes = (torch.ones(2, 2) * 7 - 1) / 2 # chaining operations\n",
    "fours = twos ** 2 # squaring a tensor\n",
    "sqrt2s = twos ** 0.5 # square root of a tensor\n",
    "\n",
    "print(ones,\"\\n\")\n",
    "print(twos,\"\\n\")\n",
    "print(threes,\"\\n\")\n",
    "print(fours,\"\\n\")\n",
    "print(sqrt2s,\"\\n\")\n",
    "\n",
    "\n",
    "\n"
   ]
  },
  {
   "cell_type": "code",
   "execution_count": 15,
   "id": "9f9aaffc",
   "metadata": {},
   "outputs": [
    {
     "name": "stdout",
     "output_type": "stream",
     "text": [
      "tensor([[ 2.,  4.],\n",
      "        [ 8., 16.]]) \n",
      "\n",
      "tensor([[ 3.,  5.],\n",
      "        [ 9., 17.]]) \n",
      "\n",
      "tensor([[ 6., 12.],\n",
      "        [24., 48.]]) \n",
      "\n"
     ]
    }
   ],
   "source": [
    "powers2 = twos ** torch.tensor([[1, 2], [3, 4]]) # element-wise exponentiation\n",
    "print(powers2,\"\\n\")\n",
    "fives = ones + powers2 # element-wise addition\n",
    "print(fives,\"\\n\")\n",
    "dozens = threes * powers2 # element-wise multiplication\n",
    "print(dozens,\"\\n\")"
   ]
  },
  {
   "cell_type": "code",
   "execution_count": 16,
   "id": "e65828f6",
   "metadata": {},
   "outputs": [
    {
     "name": "stdout",
     "output_type": "stream",
     "text": [
      "tensor([[0.2099, 0.2497, 0.7165, 0.6052],\n",
      "        [0.2578, 0.5984, 0.1647, 0.0950]])\n",
      "tensor([[0.4198, 0.4994, 1.4331, 1.2103],\n",
      "        [0.5156, 1.1969, 0.3294, 0.1901]])\n"
     ]
    }
   ],
   "source": [
    "rand = torch.rand(2, 4) # random tensor\n",
    "doubled = rand * (torch.ones(1, 4) * 2) # broadcasting\n",
    "print(rand)\n",
    "print(doubled)\n"
   ]
  },
  {
   "cell_type": "code",
   "execution_count": 17,
   "id": "f15b9d2e",
   "metadata": {},
   "outputs": [
    {
     "name": "stdout",
     "output_type": "stream",
     "text": [
      "tensor([[[0.7679, 0.2979],\n",
      "         [0.2714, 0.8352],\n",
      "         [0.1377, 0.0667]],\n",
      "\n",
      "        [[0.7679, 0.2979],\n",
      "         [0.2714, 0.8352],\n",
      "         [0.1377, 0.0667]],\n",
      "\n",
      "        [[0.7679, 0.2979],\n",
      "         [0.2714, 0.8352],\n",
      "         [0.1377, 0.0667]],\n",
      "\n",
      "        [[0.7679, 0.2979],\n",
      "         [0.2714, 0.8352],\n",
      "         [0.1377, 0.0667]]]) \n",
      "\n",
      "tensor([[[0.8824, 0.6409],\n",
      "         [0.8824, 0.6409],\n",
      "         [0.8824, 0.6409]],\n",
      "\n",
      "        [[0.7558, 0.4031],\n",
      "         [0.7558, 0.4031],\n",
      "         [0.7558, 0.4031]],\n",
      "\n",
      "        [[0.8364, 0.1827],\n",
      "         [0.8364, 0.1827],\n",
      "         [0.8364, 0.1827]],\n",
      "\n",
      "        [[0.7059, 0.9241],\n",
      "         [0.7059, 0.9241],\n",
      "         [0.7059, 0.9241]]]) \n",
      "\n",
      "tensor([[[0.7354, 0.7719],\n",
      "         [0.4473, 0.1884],\n",
      "         [0.7068, 0.8141]],\n",
      "\n",
      "        [[0.7354, 0.7719],\n",
      "         [0.4473, 0.1884],\n",
      "         [0.7068, 0.8141]],\n",
      "\n",
      "        [[0.7354, 0.7719],\n",
      "         [0.4473, 0.1884],\n",
      "         [0.7068, 0.8141]],\n",
      "\n",
      "        [[0.7354, 0.7719],\n",
      "         [0.4473, 0.1884],\n",
      "         [0.7068, 0.8141]]]) \n",
      "\n"
     ]
    }
   ],
   "source": [
    "a = torch.ones(4, 3, 2)\n",
    "b = a * torch.rand(3, 2)\n",
    "print(b, \"\\n\") # 3rd & 2nd dims identical to a, dim 1 absent\n",
    "c = a * torch.rand(4, 1, 2)\n",
    "print(c, \"\\n\") # 3rd dim = 1, 2nd dim identical to a\n",
    "d = a * torch.rand(1, 3, 2)\n",
    "print(d, \"\\n\") # 3rd dim identical to a, 2nd dim = 1\n"
   ]
  },
  {
   "cell_type": "code",
   "execution_count": 19,
   "id": "90c05c8d",
   "metadata": {},
   "outputs": [
    {
     "name": "stdout",
     "output_type": "stream",
     "text": [
      "tensor([[ 0.4161, -0.8475, -0.1534,  0.4387],\n",
      "        [ 0.5731,  0.5222, -0.9818,  0.4168]]) \n",
      "\n",
      "tensor([[0.4161, 0.8475, 0.1534, 0.4387],\n",
      "        [0.5731, 0.5222, 0.9818, 0.4168]]) \n",
      "\n",
      "tensor([[1., -0., -0., 1.],\n",
      "        [1., 1., -0., 1.]]) \n",
      "\n",
      "tensor([[ 0., -1., -1.,  0.],\n",
      "        [ 0.,  0., -1.,  0.]]) \n",
      "\n",
      "tensor([[ 0.4161, -0.5000, -0.1534,  0.4387],\n",
      "        [ 0.5000,  0.5000, -0.5000,  0.4168]])\n"
     ]
    }
   ],
   "source": [
    "import math\n",
    "\n",
    "a = torch.rand(2, 4) * 2 - 1 # random tensor in range [-1, 1]\n",
    "print(a,\"\\n\")\n",
    "print(torch.abs(a),\"\\n\") #absolute value\n",
    "print(torch.ceil(a),\"\\n\") #ceiling\n",
    "print(torch.floor(a),\"\\n\") #floor\n",
    "print(torch.clamp(a, -0.5, 0.5)) #clamping: values < -0.5 set to -0.5, values > 0.5 set to 0.5\n"
   ]
  },
  {
   "cell_type": "code",
   "execution_count": 20,
   "id": "494f44d6",
   "metadata": {},
   "outputs": [
    {
     "name": "stdout",
     "output_type": "stream",
     "text": [
      "\n",
      "Sine and arcsine:\n",
      "tensor([0.0000, 0.7854, 1.5708, 2.3562]) \n",
      "\n",
      "tensor([0.0000, 0.7071, 1.0000, 0.7071]) \n",
      "\n",
      "tensor([0.0000, 0.7854, 1.5708, 0.7854]) \n",
      "\n"
     ]
    }
   ],
   "source": [
    "angles = torch.tensor([0, math.pi / 4, math.pi / 2, 3 * math.pi / 4]) # angles in radians\n",
    "sines = torch.sin(angles)\n",
    "inverses = torch.asin(sines)\n",
    "print('\\nSine and arcsine:')\n",
    "print(angles,\"\\n\")\n",
    "print(sines,\"\\n\")\n",
    "print(inverses,\"\\n\")\n"
   ]
  },
  {
   "cell_type": "code",
   "execution_count": 21,
   "id": "630dea64",
   "metadata": {},
   "outputs": [
    {
     "name": "stdout",
     "output_type": "stream",
     "text": [
      "tensor([3, 2, 1])\n"
     ]
    }
   ],
   "source": [
    "b = torch.tensor([1, 5, 11])\n",
    "c = torch.tensor([2, 7, 10])\n",
    "print(torch.bitwise_xor(b, c))\n"
   ]
  },
  {
   "cell_type": "code",
   "execution_count": 22,
   "id": "0e22bdc7",
   "metadata": {},
   "outputs": [
    {
     "name": "stdout",
     "output_type": "stream",
     "text": [
      "\n",
      "Broadcasted, element-wise equality comparison:\n",
      "tensor([[1., 2.],\n",
      "        [3., 4.]]) \n",
      "\n",
      "tensor([[1., 1.]]) \n",
      "\n",
      "tensor([[ True, False],\n",
      "        [False, False]])\n"
     ]
    }
   ],
   "source": [
    "print('\\nBroadcasted, element-wise equality comparison:')\n",
    "d = torch.tensor([[1., 2.], [3., 4.]])\n",
    "print(d,\"\\n\")\n",
    "e = torch.ones(1, 2)  # many comparison ops support broadcasting!\n",
    "print(e,\"\\n\")\n",
    "print(torch.eq(d, e))  # returns a tensor of type bool\n"
   ]
  },
  {
   "cell_type": "code",
   "execution_count": 23,
   "id": "b5d26afc",
   "metadata": {},
   "outputs": [
    {
     "name": "stdout",
     "output_type": "stream",
     "text": [
      "tensor(4.)\n",
      "4.0\n",
      "tensor(2.5000)\n",
      "tensor(1.2910)\n",
      "tensor(24.)\n",
      "tensor([1, 2])\n"
     ]
    }
   ],
   "source": [
    "d = torch.tensor([[1., 2.], [3., 4.]])\n",
    "print(torch.max(d))\n",
    "print(torch.max(d).item())\n",
    "print(torch.mean(d))\n",
    "print(torch.std(d))\n",
    "print(torch.prod(d))\n",
    "print(torch.unique(torch.tensor([1, 2, 1, 2, 1, 2])))  # filter unique elements\n"
   ]
  }
 ],
 "metadata": {
  "kernelspec": {
   "display_name": ".venv",
   "language": "python",
   "name": "python3"
  },
  "language_info": {
   "codemirror_mode": {
    "name": "ipython",
    "version": 3
   },
   "file_extension": ".py",
   "mimetype": "text/x-python",
   "name": "python",
   "nbconvert_exporter": "python",
   "pygments_lexer": "ipython3",
   "version": "3.13.5"
  }
 },
 "nbformat": 4,
 "nbformat_minor": 5
}
