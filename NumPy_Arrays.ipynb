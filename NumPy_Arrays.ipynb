{
  "cells": [
    {
      "cell_type": "markdown",
      "metadata": {
        "id": "t-l4MpEzDlKq"
      },
      "source": [
        "## NumPy Array Attributes"
      ]
    },
    {
      "cell_type": "code",
      "execution_count": 25,
      "metadata": {
        "id": "eF1kZU8zDlKy"
      },
      "outputs": [
        {
          "name": "stdout",
          "output_type": "stream",
          "text": [
            "[5 0 3 3 7 9]\n",
            "\n",
            "\n",
            "[[3 5 2 4]\n",
            " [7 6 8 8]\n",
            " [1 6 7 7]]\n",
            "\n",
            "\n",
            "[[[8 1 5]\n",
            "  [9 8 9]]]\n",
            "(1, 2, 3)\n"
          ]
        }
      ],
      "source": [
        "import numpy as np\n",
        "np.random.seed(0)  # seed for reproducibility\n",
        "\n",
        "x1 = np.random.randint(10, size=6)\n",
        "print(x1)  # One-dimensional array\n",
        "print(\"\\n\")\n",
        "x2 = np.random.randint(10, size=(3, 4))\n",
        "print(x2)  # Two-dimensional array\n",
        "print(\"\\n\")\n",
        "x3 = np.random.randint(10, size=(1, 2, 3))  # Three-dimensional array\n",
        "print(x3)\n",
        "print(x3.shape)"
      ]
    },
    {
      "cell_type": "markdown",
      "metadata": {
        "id": "frLZFC7HDlLi"
      },
      "source": [
        "## Array Indexing: Accessing Single Elements"
      ]
    },
    {
      "cell_type": "markdown",
      "metadata": {
        "id": "Ux7UvWQPDlLj"
      },
      "source": [
        "If you are familiar with Python's standard list indexing, indexing in NumPy will feel quite familiar.\n",
        "In a one-dimensional array, the $i^{th}$ value (counting from zero) can be accessed by specifying the desired index in square brackets, just as with Python lists:"
      ]
    },
    {
      "cell_type": "code",
      "execution_count": 26,
      "metadata": {
        "id": "2vIk6k05DlLk"
      },
      "outputs": [
        {
          "data": {
            "text/plain": [
              "array([5, 0, 3, 3, 7, 9], dtype=int32)"
            ]
          },
          "execution_count": 26,
          "metadata": {},
          "output_type": "execute_result"
        }
      ],
      "source": [
        "x1"
      ]
    },
    {
      "cell_type": "code",
      "execution_count": 27,
      "metadata": {
        "id": "bZ1NCmXqDlLo"
      },
      "outputs": [
        {
          "data": {
            "text/plain": [
              "np.int32(5)"
            ]
          },
          "execution_count": 27,
          "metadata": {},
          "output_type": "execute_result"
        }
      ],
      "source": [
        "x1[0]"
      ]
    },
    {
      "cell_type": "code",
      "execution_count": 28,
      "metadata": {
        "id": "m7f4tvsrDlLu"
      },
      "outputs": [
        {
          "data": {
            "text/plain": [
              "np.int32(7)"
            ]
          },
          "execution_count": 28,
          "metadata": {},
          "output_type": "execute_result"
        }
      ],
      "source": [
        "x1[4]"
      ]
    },
    {
      "cell_type": "markdown",
      "metadata": {
        "id": "Y9cv0hWxDlLx"
      },
      "source": [
        "To index from the end of the array, you can use negative indices:"
      ]
    },
    {
      "cell_type": "code",
      "execution_count": 29,
      "metadata": {
        "id": "mJq-_iO-DlLy"
      },
      "outputs": [
        {
          "data": {
            "text/plain": [
              "np.int32(9)"
            ]
          },
          "execution_count": 29,
          "metadata": {},
          "output_type": "execute_result"
        }
      ],
      "source": [
        "x1[-1]"
      ]
    },
    {
      "cell_type": "code",
      "execution_count": 30,
      "metadata": {
        "id": "QPWGZZwStadN"
      },
      "outputs": [
        {
          "data": {
            "text/plain": [
              "array([5, 0, 3, 3, 7, 9], dtype=int32)"
            ]
          },
          "execution_count": 30,
          "metadata": {},
          "output_type": "execute_result"
        }
      ],
      "source": [
        "x1"
      ]
    },
    {
      "cell_type": "code",
      "execution_count": 31,
      "metadata": {
        "id": "46aSxFH1DlL3"
      },
      "outputs": [
        {
          "data": {
            "text/plain": [
              "np.int32(7)"
            ]
          },
          "execution_count": 31,
          "metadata": {},
          "output_type": "execute_result"
        }
      ],
      "source": [
        "x1[-2]"
      ]
    },
    {
      "cell_type": "markdown",
      "metadata": {
        "id": "xLFvoASwDlL7"
      },
      "source": [
        "In a multi-dimensional array, items can be accessed using a comma-separated tuple of indices:"
      ]
    },
    {
      "cell_type": "code",
      "execution_count": 32,
      "metadata": {
        "id": "ItSx7VBbDlL8"
      },
      "outputs": [
        {
          "data": {
            "text/plain": [
              "array([[3, 5, 2, 4],\n",
              "       [7, 6, 8, 8],\n",
              "       [1, 6, 7, 7]], dtype=int32)"
            ]
          },
          "execution_count": 32,
          "metadata": {},
          "output_type": "execute_result"
        }
      ],
      "source": [
        "x2"
      ]
    },
    {
      "cell_type": "code",
      "execution_count": 33,
      "metadata": {
        "id": "hVC-vJ5yQNFa"
      },
      "outputs": [
        {
          "name": "stdout",
          "output_type": "stream",
          "text": [
            "x2 before multiplication [[3 5 2 4]\n",
            " [7 6 8 8]\n",
            " [1 6 7 7]]\n",
            "[[15 25 10 20]\n",
            " [35 30 40 40]\n",
            " [ 5 30 35 35]]\n"
          ]
        }
      ],
      "source": [
        "a=5\n",
        "#c=a*x2;\n",
        "#print(c)\n",
        "print(\"x2 before multiplication\",x2)\n",
        "x2*=a     #x2=x2*a\n",
        "print(x2)"
      ]
    },
    {
      "cell_type": "code",
      "execution_count": 34,
      "metadata": {
        "id": "UIpblQb4DlMA"
      },
      "outputs": [
        {
          "name": "stdout",
          "output_type": "stream",
          "text": [
            "[[15 25 10 20]\n",
            " [35 30 40 40]\n",
            " [ 5 30 35 35]]\n"
          ]
        },
        {
          "data": {
            "text/plain": [
              "np.int32(15)"
            ]
          },
          "execution_count": 34,
          "metadata": {},
          "output_type": "execute_result"
        }
      ],
      "source": [
        "print(x2)\n",
        "x2[0, 0]"
      ]
    },
    {
      "cell_type": "code",
      "execution_count": 35,
      "metadata": {
        "id": "nIuMteAZDlME"
      },
      "outputs": [
        {
          "data": {
            "text/plain": [
              "np.int32(5)"
            ]
          },
          "execution_count": 35,
          "metadata": {},
          "output_type": "execute_result"
        }
      ],
      "source": [
        "x2[2, 0]"
      ]
    },
    {
      "cell_type": "code",
      "execution_count": 36,
      "metadata": {
        "id": "xsBGvHnzDlMJ"
      },
      "outputs": [
        {
          "name": "stdout",
          "output_type": "stream",
          "text": [
            "[[15 25 10 20]\n",
            " [35 30 40 40]\n",
            " [ 5 30 35 35]]\n"
          ]
        },
        {
          "data": {
            "text/plain": [
              "np.int32(30)"
            ]
          },
          "execution_count": 36,
          "metadata": {},
          "output_type": "execute_result"
        }
      ],
      "source": [
        "print(x2)\n",
        "x2[1, -3]"
      ]
    },
    {
      "cell_type": "markdown",
      "metadata": {
        "id": "lwI7ZgR5DlMN"
      },
      "source": [
        "Values can also be modified using any of the above index notation:"
      ]
    },
    {
      "cell_type": "code",
      "execution_count": 37,
      "metadata": {
        "id": "IQPLrlJBDlMN"
      },
      "outputs": [
        {
          "name": "stdout",
          "output_type": "stream",
          "text": [
            "[[15 25 10 20]\n",
            " [35 30 40 40]\n",
            " [ 5 30 35 35]]\n",
            "[[12 25 10 20]\n",
            " [35 30 40 40]\n",
            " [ 5 30 35 35]]\n"
          ]
        }
      ],
      "source": [
        "print(x2)\n",
        "x2[0, 0] = 12\n",
        "print(x2)"
      ]
    },
    {
      "cell_type": "markdown",
      "metadata": {
        "id": "hFbu_v8XDlMU"
      },
      "source": [
        "Keep in mind that, unlike Python lists, NumPy arrays have a fixed type.\n",
        "This means, for example, that if you attempt to insert a floating-point value to an integer array, the value will be silently truncated. Don't be caught unaware by this behavior!"
      ]
    },
    {
      "cell_type": "code",
      "execution_count": 38,
      "metadata": {
        "id": "zjp3j4xyDlMV"
      },
      "outputs": [
        {
          "name": "stdout",
          "output_type": "stream",
          "text": [
            "[5 0 3 3 7 9]\n"
          ]
        },
        {
          "data": {
            "text/plain": [
              "array([3, 0, 3, 3, 7, 9], dtype=int32)"
            ]
          },
          "execution_count": 38,
          "metadata": {},
          "output_type": "execute_result"
        }
      ],
      "source": [
        "print(x1)\n",
        "x1[0] = 3.14159  # this will be truncated!\n",
        "x1"
      ]
    },
    {
      "cell_type": "markdown",
      "metadata": {
        "id": "zPgEvsqrDlMY"
      },
      "source": [
        "## Array Slicing: Accessing Subarrays"
      ]
    },
    {
      "cell_type": "markdown",
      "metadata": {
        "id": "S3uw0-pnDlMZ"
      },
      "source": [
        "Just as we can use square brackets to access individual array elements, we can also use them to access subarrays with the *slice* notation, marked by the colon (``:``) character.\n",
        "The NumPy slicing syntax follows that of the standard Python list; to access a slice of an array ``x``, use this:\n",
        "``` python\n",
        "x[start:stop:step]\n",
        "```\n",
        "If any of these are unspecified, they default to the values ``start=0``, ``stop=``*``size of dimension``*, ``step=1``.\n",
        "We'll take a look at accessing sub-arrays in one dimension and in multiple dimensions."
      ]
    },
    {
      "cell_type": "markdown",
      "metadata": {
        "id": "cv4aOeK3DlMa"
      },
      "source": [
        "### One-dimensional subarrays"
      ]
    },
    {
      "cell_type": "code",
      "execution_count": 39,
      "metadata": {
        "id": "x1YO6cuMDlMb"
      },
      "outputs": [
        {
          "name": "stdout",
          "output_type": "stream",
          "text": [
            "[ 0  1  2  3  4  5  6  7  8  9 10 11 12 13 14 15 16 17 18 19]\n"
          ]
        },
        {
          "data": {
            "text/plain": [
              "array([ 1,  4,  7, 10, 13, 16, 19])"
            ]
          },
          "execution_count": 39,
          "metadata": {},
          "output_type": "execute_result"
        }
      ],
      "source": [
        "y=np.arange(20)\n",
        "print(y)\n",
        "x = np.arange(1,20,3)   # from 1 to 20 in jumps of +3\n",
        "x"
      ]
    },
    {
      "cell_type": "code",
      "execution_count": 40,
      "metadata": {
        "id": "GFVIh9MKDlMf"
      },
      "outputs": [
        {
          "name": "stdout",
          "output_type": "stream",
          "text": [
            "[ 1  4  7 10 13 16 19]\n"
          ]
        }
      ],
      "source": [
        "print(x)\n",
        "#x[:5]  # first five elements, because 2nd parameter is the stopping size"
      ]
    },
    {
      "cell_type": "code",
      "execution_count": 41,
      "metadata": {
        "id": "qjRtDFDlDlMj"
      },
      "outputs": [
        {
          "data": {
            "text/plain": [
              "array([16, 19])"
            ]
          },
          "execution_count": 41,
          "metadata": {},
          "output_type": "execute_result"
        }
      ],
      "source": [
        "x[5:]  # elements from 5th index"
      ]
    },
    {
      "cell_type": "code",
      "execution_count": 42,
      "metadata": {
        "id": "5zbq-uYpDlMn"
      },
      "outputs": [
        {
          "name": "stdout",
          "output_type": "stream",
          "text": [
            "[ 1  4  7 10 13 16 19]\n"
          ]
        },
        {
          "data": {
            "text/plain": [
              "array([13])"
            ]
          },
          "execution_count": 42,
          "metadata": {},
          "output_type": "execute_result"
        }
      ],
      "source": [
        "print(x)\n",
        "x[4:5]  # middle sub-array    ingores error even when x[4:9] is given and displays the output"
      ]
    },
    {
      "cell_type": "code",
      "execution_count": 43,
      "metadata": {
        "id": "r3R0g2F2DlMq"
      },
      "outputs": [
        {
          "name": "stdout",
          "output_type": "stream",
          "text": [
            "[ 1  4  7 10 13 16 19]\n",
            "[ 1  7 13 19]\n"
          ]
        },
        {
          "data": {
            "text/plain": [
              "array([ 1, 10, 19])"
            ]
          },
          "execution_count": 43,
          "metadata": {},
          "output_type": "execute_result"
        }
      ],
      "source": [
        "print(x)\n",
        "print(x[::2])  # every other element\n",
        "x[::3]"
      ]
    },
    {
      "cell_type": "code",
      "execution_count": 44,
      "metadata": {
        "id": "sq74qbYEDlMs"
      },
      "outputs": [
        {
          "data": {
            "text/plain": [
              "array([ 4, 10, 16])"
            ]
          },
          "execution_count": 44,
          "metadata": {},
          "output_type": "execute_result"
        }
      ],
      "source": [
        "x[1::2]  # every other element, starting at index 1"
      ]
    },
    {
      "cell_type": "code",
      "execution_count": 45,
      "metadata": {
        "id": "gAB18DDHFRAr"
      },
      "outputs": [
        {
          "data": {
            "text/plain": [
              "array([ 4,  7, 10, 13, 16, 19])"
            ]
          },
          "execution_count": 45,
          "metadata": {},
          "output_type": "execute_result"
        }
      ],
      "source": [
        "x[1::]"
      ]
    },
    {
      "cell_type": "markdown",
      "metadata": {
        "id": "JBKU3xfoDlMw"
      },
      "source": [
        "A potentially confusing case is when the ``step`` value is negative.\n",
        "In this case, the defaults for ``start`` and ``stop`` are swapped.\n",
        "This becomes a convenient way to reverse an array:"
      ]
    },
    {
      "cell_type": "code",
      "execution_count": 46,
      "metadata": {
        "id": "U1WKVBWqDlMw"
      },
      "outputs": [
        {
          "name": "stdout",
          "output_type": "stream",
          "text": [
            "[19 16 13 10  7  4  1]\n",
            "[ 1  4  7 10 13 16 19]\n"
          ]
        }
      ],
      "source": [
        "print(x[::-1])  # all elements, reversed\n",
        "print(x)"
      ]
    },
    {
      "cell_type": "code",
      "execution_count": 47,
      "metadata": {
        "id": "mKaYPCmbDlMz"
      },
      "outputs": [
        {
          "data": {
            "text/plain": [
              "array([16, 10,  4])"
            ]
          },
          "execution_count": 47,
          "metadata": {},
          "output_type": "execute_result"
        }
      ],
      "source": [
        "x[5::-2]  # reversed every other from index 5"
      ]
    },
    {
      "cell_type": "markdown",
      "metadata": {
        "id": "YR4iMeP-DlM2"
      },
      "source": [
        "### Multi-dimensional subarrays\n",
        "\n",
        "Multi-dimensional slices work in the same way, with multiple slices separated by commas.\n",
        "For example:"
      ]
    },
    {
      "cell_type": "code",
      "execution_count": 48,
      "metadata": {
        "id": "KQOg9XpaDlM2"
      },
      "outputs": [
        {
          "name": "stdout",
          "output_type": "stream",
          "text": [
            "[[12 25 10 20]\n",
            " [35 30 40 40]\n",
            " [ 5 30 35 35]]\n"
          ]
        },
        {
          "data": {
            "text/plain": [
              "array([[12, 25, 10, 20],\n",
              "       [35, 30, 40, 40],\n",
              "       [ 5, 30, 35, 35]], dtype=int32)"
            ]
          },
          "execution_count": 48,
          "metadata": {},
          "output_type": "execute_result"
        }
      ],
      "source": [
        "x2\n",
        "print(x2)\n",
        "x2[0:]      #start:stop:step"
      ]
    },
    {
      "cell_type": "code",
      "execution_count": 49,
      "metadata": {
        "id": "ClfuPwRI5Txp"
      },
      "outputs": [
        {
          "data": {
            "text/plain": [
              "array([[35, 30, 40, 40],\n",
              "       [ 5, 30, 35, 35]], dtype=int32)"
            ]
          },
          "execution_count": 49,
          "metadata": {},
          "output_type": "execute_result"
        }
      ],
      "source": [
        "#x2[:2]   # from 0th row, display only 2 rows( from starting)\n",
        "#x2[:3]   #  3 rows starting from 0th row\n",
        "x2[:,2]   #from 0th row to all the rows, 3rd(index 2) column\n",
        "x2[1:,2]  #from 1st row to all rows, 3rd(index 2)column\n",
        "x2[:,[1,3]]     # from all rows, pick only 1st and 3rd rows\n",
        "x2[1:]        # from 2nd row to the end"
      ]
    },
    {
      "cell_type": "code",
      "execution_count": 50,
      "metadata": {
        "id": "nqOkJx7Tm53l"
      },
      "outputs": [
        {
          "name": "stdout",
          "output_type": "stream",
          "text": [
            "[[12 25 10 20]\n",
            " [35 30 40 40]\n",
            " [ 5 30 35 35]]\n",
            "\n",
            "\n"
          ]
        },
        {
          "data": {
            "text/plain": [
              "array([[35, 30, 40, 40],\n",
              "       [ 5, 30, 35, 35]], dtype=int32)"
            ]
          },
          "execution_count": 50,
          "metadata": {},
          "output_type": "execute_result"
        }
      ],
      "source": [
        "print(x2)\n",
        "print(\"\\n\")\n",
        "x2[1:]"
      ]
    },
    {
      "cell_type": "code",
      "execution_count": 51,
      "metadata": {
        "id": "yxNzmjylCgsF"
      },
      "outputs": [
        {
          "data": {
            "text/plain": [
              "array([10, 40, 35], dtype=int32)"
            ]
          },
          "execution_count": 51,
          "metadata": {},
          "output_type": "execute_result"
        }
      ],
      "source": [
        "x2[:,2]       #all rows, 3rd(index 2)column"
      ]
    },
    {
      "cell_type": "code",
      "execution_count": 52,
      "metadata": {
        "id": "DwV6oq1mifW5"
      },
      "outputs": [
        {
          "data": {
            "text/plain": [
              "array([[12, 25, 10, 20],\n",
              "       [35, 30, 40, 40],\n",
              "       [ 5, 30, 35, 35]], dtype=int32)"
            ]
          },
          "execution_count": 52,
          "metadata": {},
          "output_type": "execute_result"
        }
      ],
      "source": [
        "x2[:]"
      ]
    },
    {
      "cell_type": "code",
      "execution_count": 53,
      "metadata": {
        "id": "9Da-stdd5BHD"
      },
      "outputs": [
        {
          "data": {
            "text/plain": [
              "array([[35, 40],\n",
              "       [ 5, 35]], dtype=int32)"
            ]
          },
          "execution_count": 53,
          "metadata": {},
          "output_type": "execute_result"
        }
      ],
      "source": [
        "x2[1,:]\n",
        "x2[[1,2],1:]    # 2 & 3rd row, from 2nd(index 1)column till end\n",
        "x2[[1,2],:3]    # 2 & 3rd row, from 1st(index 0)column to 3 (counted) cloumns\n",
        "x2[[1,2],::2]   # 2 & 3rd row, every alternative column"
      ]
    },
    {
      "cell_type": "code",
      "execution_count": 54,
      "metadata": {
        "id": "b6ILzfOAqH2w"
      },
      "outputs": [
        {
          "name": "stdout",
          "output_type": "stream",
          "text": [
            "[[12 25 10 20]\n",
            " [35 30 40 40]\n",
            " [ 5 30 35 35]]\n",
            "\n",
            "\n"
          ]
        },
        {
          "data": {
            "text/plain": [
              "array([[12, 25, 10, 20],\n",
              "       [35, 30, 40, 40],\n",
              "       [ 5, 30, 35, 35]], dtype=int32)"
            ]
          },
          "execution_count": 54,
          "metadata": {},
          "output_type": "execute_result"
        }
      ],
      "source": [
        "print(x2)\n",
        "print(\"\\n\")\n",
        "x2[[1,2],::2]       #[start:stop],[start:stop]:step\n",
        "x2[::,:]    #print(x2) x2[0:] x2[0:5]  x2[0:,:]"
      ]
    },
    {
      "cell_type": "code",
      "execution_count": 55,
      "metadata": {
        "id": "428MlC9E5vHn"
      },
      "outputs": [
        {
          "data": {
            "text/plain": [
              "array([10, 40, 35], dtype=int32)"
            ]
          },
          "execution_count": 55,
          "metadata": {},
          "output_type": "execute_result"
        }
      ],
      "source": [
        "x2[:,2]"
      ]
    },
    {
      "cell_type": "code",
      "execution_count": 56,
      "metadata": {
        "id": "m5x99zuHOzbY"
      },
      "outputs": [
        {
          "data": {
            "text/plain": [
              "array([[12, 20],\n",
              "       [35, 40],\n",
              "       [ 5, 35]], dtype=int32)"
            ]
          },
          "execution_count": 56,
          "metadata": {},
          "output_type": "execute_result"
        }
      ],
      "source": [
        "x2[:,[0,3]]     # all rows, 2nd(index -1)column and 4th(index 3) cloumn\n",
        "#x2[1:,[1,3]]\n",
        "#x2[2:,[1,3]]"
      ]
    },
    {
      "cell_type": "code",
      "execution_count": 57,
      "metadata": {
        "id": "sBLfNaSHDlM6"
      },
      "outputs": [
        {
          "data": {
            "text/plain": [
              "array([[12, 25, 10],\n",
              "       [35, 30, 40]], dtype=int32)"
            ]
          },
          "execution_count": 57,
          "metadata": {},
          "output_type": "execute_result"
        }
      ],
      "source": [
        "x2[:2, :3]  # 1st-two rows (2 counted rows), three counted columns (1st-3 columns)"
      ]
    },
    {
      "cell_type": "code",
      "execution_count": 58,
      "metadata": {
        "id": "S12wnFeIDlM8"
      },
      "outputs": [
        {
          "data": {
            "text/plain": [
              "array([[12, 10],\n",
              "       [35, 40],\n",
              "       [ 5, 35]], dtype=int32)"
            ]
          },
          "execution_count": 58,
          "metadata": {},
          "output_type": "execute_result"
        }
      ],
      "source": [
        "x2[:3, ::2]  # all rows, every other column"
      ]
    },
    {
      "cell_type": "code",
      "execution_count": 59,
      "metadata": {
        "id": "Q4rPQkfpQK-X"
      },
      "outputs": [
        {
          "data": {
            "text/plain": [
              "array([[12, 25, 10, 20],\n",
              "       [35, 30, 40, 40],\n",
              "       [ 5, 30, 35, 35]], dtype=int32)"
            ]
          },
          "execution_count": 59,
          "metadata": {},
          "output_type": "execute_result"
        }
      ],
      "source": [
        "x2"
      ]
    },
    {
      "cell_type": "markdown",
      "metadata": {
        "id": "Lv0v-RE3DlNA"
      },
      "source": [
        "Finally, subarray dimensions can even be reversed together:"
      ]
    },
    {
      "cell_type": "code",
      "execution_count": 60,
      "metadata": {
        "id": "nNzzHbAhDlNA"
      },
      "outputs": [
        {
          "name": "stdout",
          "output_type": "stream",
          "text": [
            "[[12 25 10 20]\n",
            " [35 30 40 40]\n",
            " [ 5 30 35 35]]\n",
            "\n",
            " [[ 5 30 35 35]\n",
            " [35 30 40 40]\n",
            " [12 25 10 20]]\n"
          ]
        },
        {
          "data": {
            "text/plain": [
              "array([[35, 35, 30,  5],\n",
              "       [40, 40, 30, 35],\n",
              "       [20, 10, 25, 12]], dtype=int32)"
            ]
          },
          "execution_count": 60,
          "metadata": {},
          "output_type": "execute_result"
        }
      ],
      "source": [
        "print(x2)\n",
        "print(\"\\n\",x2[::-1, ::])    #1st- reverses rows 2nd- reverses columns\n",
        "x2[::-1,::-1]"
      ]
    },
    {
      "cell_type": "markdown",
      "metadata": {
        "id": "6QK0fpkoDlND"
      },
      "source": [
        "#### Accessing array rows and columns\n",
        "\n",
        "One commonly needed routine is accessing of single rows or columns of an array.\n",
        "This can be done by combining indexing and slicing, using an empty slice marked by a single colon (``:``):"
      ]
    },
    {
      "cell_type": "code",
      "execution_count": 61,
      "metadata": {
        "id": "_t5FKz3yDlND"
      },
      "outputs": [
        {
          "name": "stdout",
          "output_type": "stream",
          "text": [
            "[12 35  5]\n"
          ]
        }
      ],
      "source": [
        "print(x2[:, 0])  # first column of x2"
      ]
    },
    {
      "cell_type": "code",
      "execution_count": 62,
      "metadata": {
        "id": "2vu4fdKQDlNG"
      },
      "outputs": [
        {
          "name": "stdout",
          "output_type": "stream",
          "text": [
            "[12 25 10 20]\n"
          ]
        }
      ],
      "source": [
        "print(x2[0, :])  # first row of x2"
      ]
    },
    {
      "cell_type": "markdown",
      "metadata": {
        "id": "qm0Qik4XDlNJ"
      },
      "source": [
        "In the case of row access, the empty slice can be omitted for a more compact syntax:"
      ]
    },
    {
      "cell_type": "code",
      "execution_count": 63,
      "metadata": {
        "id": "zb2e8lDrDlNJ"
      },
      "outputs": [
        {
          "name": "stdout",
          "output_type": "stream",
          "text": [
            "[12 25 10 20]\n"
          ]
        }
      ],
      "source": [
        "print(x2[0])  # equivalent to x2[0, :]"
      ]
    },
    {
      "cell_type": "markdown",
      "metadata": {
        "id": "_fa7_UiCDlNM"
      },
      "source": [
        "### Subarrays as no-copy views\n",
        "\n",
        "One important–and extremely useful–thing to know about array slices is that they return *views* rather than *copies* of the array data.\n",
        "This is one area in which NumPy array slicing differs from Python list slicing: in lists, slices will be copies.\n",
        "Consider our two-dimensional array from before:"
      ]
    },
    {
      "cell_type": "code",
      "execution_count": 64,
      "metadata": {
        "id": "ogZJx-VgDlNN"
      },
      "outputs": [
        {
          "name": "stdout",
          "output_type": "stream",
          "text": [
            "[[12 25 10 20]\n",
            " [35 30 40 40]\n",
            " [ 5 30 35 35]]\n"
          ]
        }
      ],
      "source": [
        "print(x2)"
      ]
    },
    {
      "cell_type": "markdown",
      "metadata": {
        "id": "JuRYJlQRDlNQ"
      },
      "source": [
        "Let's extract a $2 \\times 2$ subarray from this:"
      ]
    },
    {
      "cell_type": "code",
      "execution_count": 65,
      "metadata": {
        "id": "xAF7ljwbDlNQ"
      },
      "outputs": [
        {
          "name": "stdout",
          "output_type": "stream",
          "text": [
            "[[12 25]\n",
            " [35 30]]\n"
          ]
        }
      ],
      "source": [
        "x2_s = x2[:2, :2]\n",
        "print(x2_s)"
      ]
    },
    {
      "cell_type": "markdown",
      "metadata": {
        "id": "s4pKGfoXDlNT"
      },
      "source": [
        "Now if we modify this subarray, we'll see that the original array is changed! Observe:"
      ]
    },
    {
      "cell_type": "code",
      "execution_count": 66,
      "metadata": {
        "id": "dGDjgjdaDlNT"
      },
      "outputs": [
        {
          "name": "stdout",
          "output_type": "stream",
          "text": [
            "[[100  25]\n",
            " [ 35  30]]\n"
          ]
        }
      ],
      "source": [
        "x2_s[0, 0] = 100\n",
        "print(x2_s)"
      ]
    },
    {
      "cell_type": "code",
      "execution_count": 67,
      "metadata": {
        "id": "NOFHDVmxDlNq"
      },
      "outputs": [
        {
          "name": "stdout",
          "output_type": "stream",
          "text": [
            "[[100  25  10  20]\n",
            " [ 35  30  40  40]\n",
            " [  5  30  35  35]]\n"
          ]
        }
      ],
      "source": [
        "print(x2)       #changes made in sub array x2_sub is reflected in the main array"
      ]
    },
    {
      "cell_type": "markdown",
      "metadata": {
        "id": "_wt5WarDDlNt"
      },
      "source": [
        "This default behavior is actually quite useful: it means that when we work with large datasets, we can access and process pieces of these datasets without the need to copy the underlying data buffer."
      ]
    },
    {
      "cell_type": "markdown",
      "metadata": {
        "id": "zfD7OUgoDlNu"
      },
      "source": [
        "### Creating copies of arrays\n",
        "\n",
        "Despite the nice features of array views, it is sometimes useful to instead explicitly copy the data within an array or a subarray. This can be most easily done with the ``copy()`` method:"
      ]
    },
    {
      "cell_type": "code",
      "execution_count": 68,
      "metadata": {
        "id": "FAzAIWd9DlNw"
      },
      "outputs": [
        {
          "name": "stdout",
          "output_type": "stream",
          "text": [
            "[[100  25  10  20]\n",
            " [ 35  30  40  40]\n",
            " [  5  30  35  35]]\n",
            "[[100  25]\n",
            " [ 35  30]]\n"
          ]
        }
      ],
      "source": [
        "print(x2)\n",
        "x2_sub_copy = x2[:2, :2].copy()\n",
        "print(x2_sub_copy)"
      ]
    },
    {
      "cell_type": "markdown",
      "metadata": {
        "id": "UmZtsAXHDlNz"
      },
      "source": [
        "If we now modify this subarray, the original array is not touched:"
      ]
    },
    {
      "cell_type": "code",
      "execution_count": 69,
      "metadata": {
        "id": "tefFgghzDlN0"
      },
      "outputs": [
        {
          "name": "stdout",
          "output_type": "stream",
          "text": [
            "[[42 25]\n",
            " [35 30]]\n"
          ]
        }
      ],
      "source": [
        "x2_sub_copy[0, 0] = 42\n",
        "print(x2_sub_copy)"
      ]
    },
    {
      "cell_type": "code",
      "execution_count": 70,
      "metadata": {
        "id": "K_Y0A3t4DlN3"
      },
      "outputs": [
        {
          "name": "stdout",
          "output_type": "stream",
          "text": [
            "[[100  25  10  20]\n",
            " [ 35  30  40  40]\n",
            " [  5  30  35  35]]\n"
          ]
        }
      ],
      "source": [
        "print(x2)"
      ]
    },
    {
      "cell_type": "markdown",
      "metadata": {
        "id": "dgpgLLdBDlN5"
      },
      "source": [
        "## Reshaping of Arrays\n",
        "\n",
        "Another useful type of operation is reshaping of arrays.\n",
        "The most flexible way of doing this is with the ``reshape`` method.\n",
        "For example, if you want to put the numbers 1 through 9 in a $3 \\times 3$ grid, you can do the following:"
      ]
    },
    {
      "cell_type": "code",
      "execution_count": 71,
      "metadata": {
        "id": "FDAs31USDlN6"
      },
      "outputs": [
        {
          "name": "stdout",
          "output_type": "stream",
          "text": [
            "[[1 2 3 4 5 6 7 8 9]]\n",
            "(1, 9)\n",
            "2\n"
          ]
        }
      ],
      "source": [
        "grid = np.arange(1,10).reshape((1,9))\n",
        "print(grid)\n",
        "print(grid.shape)\n",
        "print(grid.ndim)"
      ]
    },
    {
      "cell_type": "markdown",
      "metadata": {
        "id": "_f8YncD4DlN8"
      },
      "source": [
        "Note that for this to work, the size of the initial array must match the size of the reshaped array.\n",
        "Where possible, the ``reshape`` method will use a no-copy view of the initial array, but with non-contiguous memory buffers this is not always the case.\n",
        "\n",
        "Another common reshaping pattern is the conversion of a one-dimensional array into a two-dimensional row or column matrix.\n",
        "This can be done with the ``reshape`` method, or more easily done by making use of the ``newaxis`` keyword within a slice operation:"
      ]
    },
    {
      "cell_type": "code",
      "execution_count": 72,
      "metadata": {
        "id": "L0FH0OunDlN-"
      },
      "outputs": [
        {
          "data": {
            "text/plain": [
              "1"
            ]
          },
          "execution_count": 72,
          "metadata": {},
          "output_type": "execute_result"
        }
      ],
      "source": [
        "x = np.array([1, 2, 3])\n",
        "\n",
        "# row vector via reshape\n",
        "x.reshape((1, 3))\n",
        "x.ndim"
      ]
    },
    {
      "cell_type": "code",
      "execution_count": 73,
      "metadata": {
        "id": "pnXHestgDlOA"
      },
      "outputs": [
        {
          "data": {
            "text/plain": [
              "array([[1, 2, 3]])"
            ]
          },
          "execution_count": 73,
          "metadata": {},
          "output_type": "execute_result"
        }
      ],
      "source": [
        "# row vector via newaxis\n",
        "x[np.newaxis, :]"
      ]
    },
    {
      "cell_type": "code",
      "execution_count": 74,
      "metadata": {
        "id": "uHyVX3GPDlOD"
      },
      "outputs": [
        {
          "data": {
            "text/plain": [
              "array([[1],\n",
              "       [2],\n",
              "       [3]])"
            ]
          },
          "execution_count": 74,
          "metadata": {},
          "output_type": "execute_result"
        }
      ],
      "source": [
        "# column vector via reshape\n",
        "x.reshape((3, 1))"
      ]
    },
    {
      "cell_type": "code",
      "execution_count": 75,
      "metadata": {
        "id": "GGihiWgiDlOF"
      },
      "outputs": [
        {
          "data": {
            "text/plain": [
              "array([[1],\n",
              "       [2],\n",
              "       [3]])"
            ]
          },
          "execution_count": 75,
          "metadata": {},
          "output_type": "execute_result"
        }
      ],
      "source": [
        "# column vector via newaxis\n",
        "x[:, np.newaxis]"
      ]
    },
    {
      "cell_type": "markdown",
      "metadata": {
        "id": "jdS0B6bKDlOI"
      },
      "source": [
        "## Array Concatenation and Splitting\n",
        "\n",
        "All of the preceding routines worked on single arrays. It's also possible to combine multiple arrays into one, and to conversely split a single array into multiple arrays. We'll take a look at those operations here."
      ]
    },
    {
      "cell_type": "markdown",
      "metadata": {
        "id": "bsSCXovuDlOI"
      },
      "source": [
        "### Concatenation of arrays\n",
        "\n",
        "Concatenation, or joining of two arrays in NumPy, is primarily accomplished using the routines ``np.concatenate``, ``np.vstack``, and ``np.hstack``.\n",
        "``np.concatenate`` takes a tuple or list of arrays as its first argument, as we can see here:"
      ]
    },
    {
      "cell_type": "code",
      "execution_count": 76,
      "metadata": {
        "id": "rBhPzOloDlOJ"
      },
      "outputs": [
        {
          "name": "stdout",
          "output_type": "stream",
          "text": [
            "[3 2 1 1 2 3]\n"
          ]
        }
      ],
      "source": [
        "x = np.array([1, 2, 3])\n",
        "y = np.array([3, 2, 1])\n",
        "z=np.concatenate([y, x])\n",
        "print(z)"
      ]
    },
    {
      "cell_type": "markdown",
      "metadata": {
        "id": "Cl4LsvtuDlOL"
      },
      "source": [
        "You can also concatenate more than two arrays at once:"
      ]
    },
    {
      "cell_type": "code",
      "execution_count": 77,
      "metadata": {
        "id": "NGPBCghuDlOL"
      },
      "outputs": [
        {
          "name": "stdout",
          "output_type": "stream",
          "text": [
            "[ 1  2  3  3  2  1 99 99 99]\n"
          ]
        }
      ],
      "source": [
        "z = [99, 99, 99]\n",
        "print(np.concatenate([x, y, z]))"
      ]
    },
    {
      "cell_type": "markdown",
      "metadata": {
        "id": "qSJeNzFiDlOP"
      },
      "source": [
        "It can also be used for two-dimensional arrays:"
      ]
    },
    {
      "cell_type": "code",
      "execution_count": 78,
      "metadata": {
        "id": "ZR_MtqY9DlOP"
      },
      "outputs": [],
      "source": [
        "grid = np.array([[1, 2, 3],\n",
        "                 [4, 5, 6]])\n",
        "#reshape it as row matrix\n"
      ]
    },
    {
      "cell_type": "code",
      "execution_count": 79,
      "metadata": {
        "id": "bj8fMPBtDlOS"
      },
      "outputs": [
        {
          "name": "stdout",
          "output_type": "stream",
          "text": [
            "[[1 2 3]\n",
            " [4 5 6]\n",
            " [1 2 3]\n",
            " [4 5 6]]\n",
            "2\n",
            "(4, 3)\n"
          ]
        }
      ],
      "source": [
        "# concatenate along the first axis\n",
        "g1=np.concatenate([grid, grid])\n",
        "print(g1)\n",
        "print(g1.ndim)\n",
        "print(g1.shape)"
      ]
    },
    {
      "cell_type": "code",
      "execution_count": 80,
      "metadata": {
        "id": "isR_WvKFDlOU"
      },
      "outputs": [
        {
          "name": "stdout",
          "output_type": "stream",
          "text": [
            "[[[4 3 0]\n",
            "  [3 5 0]]\n",
            "\n",
            " [[2 3 8]\n",
            "  [1 3 3]]]\n",
            "3\n",
            "(2, 2, 3)\n",
            "[[[4 3 0 4 3 0]\n",
            "  [3 5 0 3 5 0]]\n",
            "\n",
            " [[2 3 8 2 3 8]\n",
            "  [1 3 3 1 3 3]]]\n",
            "3\n",
            "(2, 2, 6)\n"
          ]
        }
      ],
      "source": [
        "# concatenate along the second axis (zero-indexed)\n",
        "x3 = np.random.randint(10, size=(2,2, 3))  # Three-dimensional array\n",
        "print(x3)\n",
        "print(x3.ndim)\n",
        "print(x3.shape)\n",
        "#reshape it as row matrix with 1x60\n",
        "z=np.concatenate([x3, x3],axis=2)\n",
        "print(z)\n",
        "print(z.ndim)\n",
        "print(z.shape)"
      ]
    },
    {
      "cell_type": "code",
      "execution_count": 81,
      "metadata": {
        "id": "iCKjkMYo8GHA"
      },
      "outputs": [
        {
          "name": "stdout",
          "output_type": "stream",
          "text": [
            "[[[[3 7 0]\n",
            "   [1 9 9]]\n",
            "\n",
            "  [[0 4 7]\n",
            "   [3 2 7]]\n",
            "\n",
            "  [[2 0 0]\n",
            "   [4 5 5]]\n",
            "\n",
            "  [[6 8 4]\n",
            "   [1 4 9]]]\n",
            "\n",
            "\n",
            " [[[8 1 1]\n",
            "   [7 9 9]]\n",
            "\n",
            "  [[3 6 7]\n",
            "   [2 0 3]]\n",
            "\n",
            "  [[5 9 4]\n",
            "   [4 6 4]]\n",
            "\n",
            "  [[4 3 4]\n",
            "   [4 8 4]]]]\n",
            "4\n",
            "(2, 4, 2, 3)\n",
            "48\n",
            "\n",
            " concatenated matrix is\n",
            "[[[[3 7 0]\n",
            "   [1 9 9]\n",
            "   [3 7 0]\n",
            "   [1 9 9]]\n",
            "\n",
            "  [[0 4 7]\n",
            "   [3 2 7]\n",
            "   [0 4 7]\n",
            "   [3 2 7]]\n",
            "\n",
            "  [[2 0 0]\n",
            "   [4 5 5]\n",
            "   [2 0 0]\n",
            "   [4 5 5]]\n",
            "\n",
            "  [[6 8 4]\n",
            "   [1 4 9]\n",
            "   [6 8 4]\n",
            "   [1 4 9]]]\n",
            "\n",
            "\n",
            " [[[8 1 1]\n",
            "   [7 9 9]\n",
            "   [8 1 1]\n",
            "   [7 9 9]]\n",
            "\n",
            "  [[3 6 7]\n",
            "   [2 0 3]\n",
            "   [3 6 7]\n",
            "   [2 0 3]]\n",
            "\n",
            "  [[5 9 4]\n",
            "   [4 6 4]\n",
            "   [5 9 4]\n",
            "   [4 6 4]]\n",
            "\n",
            "  [[4 3 4]\n",
            "   [4 8 4]\n",
            "   [4 3 4]\n",
            "   [4 8 4]]]]\n",
            "4\n",
            "(2, 4, 4, 3)\n",
            "96\n"
          ]
        }
      ],
      "source": [
        "x4 = np.random.randint(10, size=(2,4,2,3))\n",
        "print(x4)\n",
        "print(x4.ndim)\n",
        "print(x4.shape)\n",
        "print(x4.size)\n",
        "print(\"\\n\",\"concatenated matrix is\")\n",
        "z=np.concatenate([x4, x4],axis=2)\n",
        "print(z)\n",
        "print(z.ndim)\n",
        "print(z.shape)\n",
        "print(z.size)\n",
        "#reshape it to row matrix"
      ]
    },
    {
      "cell_type": "markdown",
      "metadata": {
        "id": "uKHhL7ZVDlOa"
      },
      "source": [
        "For working with arrays of mixed dimensions, it can be clearer to use the ``np.vstack`` (vertical stack) and ``np.hstack`` (horizontal stack) functions:"
      ]
    },
    {
      "cell_type": "code",
      "execution_count": 82,
      "metadata": {
        "id": "VrNdcBEuDlOa"
      },
      "outputs": [
        {
          "name": "stdout",
          "output_type": "stream",
          "text": [
            "1\n",
            "2\n"
          ]
        },
        {
          "data": {
            "text/plain": [
              "array([[1, 2, 3],\n",
              "       [9, 8, 7],\n",
              "       [6, 5, 4]])"
            ]
          },
          "execution_count": 82,
          "metadata": {},
          "output_type": "execute_result"
        }
      ],
      "source": [
        "x = np.array([1, 2, 3])\n",
        "print(x.ndim)\n",
        "grid = np.array([[9, 8, 7],\n",
        "                 [6, 5, 4]])\n",
        "print(grid.ndim)\n",
        "#np.concatenate(x,grid)\n",
        "\n",
        "# vertically stack the arrays\n",
        "np.vstack([x, grid])\n"
      ]
    },
    {
      "cell_type": "code",
      "execution_count": 83,
      "metadata": {
        "id": "Ihmhi-qSDlOe"
      },
      "outputs": [
        {
          "data": {
            "text/plain": [
              "array([[ 9,  8,  7, 99],\n",
              "       [ 6,  5,  4, 99]])"
            ]
          },
          "execution_count": 83,
          "metadata": {},
          "output_type": "execute_result"
        }
      ],
      "source": [
        "# horizontally stack the arrays\n",
        "y = np.array([[99],\n",
        "              [99]])\n",
        "np.hstack([grid, y])"
      ]
    },
    {
      "cell_type": "markdown",
      "metadata": {
        "id": "HyP5-g60DlOi"
      },
      "source": [
        "### Splitting of arrays\n",
        "\n",
        "The opposite of concatenation is splitting, which is implemented by the functions ``np.split``, ``np.hsplit``, and ``np.vsplit``.  For each of these, we can pass a list of indices giving the split points:"
      ]
    },
    {
      "cell_type": "code",
      "execution_count": 84,
      "metadata": {
        "id": "v6fLGIEVDlOi"
      },
      "outputs": [
        {
          "name": "stdout",
          "output_type": "stream",
          "text": [
            "[1 2 3] [] [ 3 99 99  3  2  1]\n"
          ]
        }
      ],
      "source": [
        "x = [1, 2, 3, 99, 99, 3, 2, 1]\n",
        "x1, x2, x3 = np.split(x, [3, 2])  #1st 3 ele of 5 in x1, remaining in x2 of 5, rest in x3\n",
        "print(x1, x2, x3)"
      ]
    },
    {
      "cell_type": "markdown",
      "metadata": {
        "id": "oFyshJ9YDlOk"
      },
      "source": [
        "Notice that *N* split-points, leads to *N + 1* subarrays.\n",
        "The related functions ``np.hsplit`` and ``np.vsplit`` are similar:"
      ]
    },
    {
      "cell_type": "code",
      "execution_count": 85,
      "metadata": {
        "id": "TEUo-Sk4DlOl"
      },
      "outputs": [
        {
          "name": "stdout",
          "output_type": "stream",
          "text": [
            "(4, 4)\n"
          ]
        }
      ],
      "source": [
        "grid = np.arange(16).reshape((4, 4))\n",
        "grid\n",
        "print(grid.shape)"
      ]
    },
    {
      "cell_type": "code",
      "execution_count": 86,
      "metadata": {
        "id": "L_C5L4OkDlOn"
      },
      "outputs": [
        {
          "name": "stdout",
          "output_type": "stream",
          "text": [
            "[[0 1 2 3]\n",
            " [4 5 6 7]]\n",
            "lower array is\n",
            "[[ 8  9 10 11]\n",
            " [12 13 14 15]]\n"
          ]
        }
      ],
      "source": [
        "upper, lower = np.vsplit(grid, [2]) # 2nd parameter is the number of rows to include in the split\n",
        "print(upper)\n",
        "print(\"lower array is\")\n",
        "print(lower)"
      ]
    },
    {
      "cell_type": "code",
      "execution_count": 87,
      "metadata": {
        "id": "da1ZzUsLDlOq"
      },
      "outputs": [
        {
          "name": "stdout",
          "output_type": "stream",
          "text": [
            "[[ 0  1  2  3]\n",
            " [ 4  5  6  7]\n",
            " [ 8  9 10 11]\n",
            " [12 13 14 15]] \n",
            "\n",
            "[[ 0  1]\n",
            " [ 4  5]\n",
            " [ 8  9]\n",
            " [12 13]]\n",
            "[[ 2  3]\n",
            " [ 6  7]\n",
            " [10 11]\n",
            " [14 15]]\n"
          ]
        }
      ],
      "source": [
        "print(grid,\"\\n\")\n",
        "left,right = np.hsplit(grid, [2])\n",
        "print(left)\n",
        "print(right)\n",
        "#x5=grid;print(x5)"
      ]
    }
  ],
  "metadata": {
    "anaconda-cloud": {},
    "colab": {
      "collapsed_sections": [
        "cv4aOeK3DlMa",
        "6QK0fpkoDlND",
        "_fa7_UiCDlNM",
        "zfD7OUgoDlNu",
        "bsSCXovuDlOI",
        "HyP5-g60DlOi"
      ],
      "provenance": []
    },
    "kernelspec": {
      "display_name": ".venv",
      "language": "python",
      "name": "python3"
    },
    "language_info": {
      "codemirror_mode": {
        "name": "ipython",
        "version": 3
      },
      "file_extension": ".py",
      "mimetype": "text/x-python",
      "name": "python",
      "nbconvert_exporter": "python",
      "pygments_lexer": "ipython3",
      "version": "3.13.5"
    }
  },
  "nbformat": 4,
  "nbformat_minor": 0
}
